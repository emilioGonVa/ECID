{
 "cells": [
  {
   "cell_type": "markdown",
   "id": "025a0e9e-9511-4eac-8014-c18153e44f6c",
   "metadata": {},
   "source": [
    "# Emilio González Vázquez del Mercado\n",
    "---"
   ]
  },
  {
   "cell_type": "markdown",
   "id": "7cdcee7e-1f4b-4a2f-90db-a682f43cbc8c",
   "metadata": {
    "jp-MarkdownHeadingCollapsed": true,
    "tags": []
   },
   "source": [
    "## Who am I?\n",
    "![my_picture](my_picture.jpg)\n",
    "\n",
    "## Hobbies\n",
    " 1. Training muay thai.\n",
    " 2. Play bass.\n",
    " 3. Listen to music.\n",
    " 4. Dance.\n",
    " 5. Know new places.\n",
    " \n",
    "\n",
    "## Working experience\n",
    "---\n",
    "| Position | Description | Company | Period | \n",
    "| -------- | ----------- | ------- | ------ |\n",
    "| **Open + Intern** | Since July 2021 I been working as a Process Lead shadow in order to learn and acquire the neccesary skills to be promoted. I worked also on the optimization and automation of tools that help create information for better decision-making from Organization team.| Philip Morris Mexico | 2020 - Act. |\n",
    "| **SENIOR INTERN** | Since the beging of my university studies I worked as an intern of the Art and Culture department.My performance led me into become the senior intern. I served as the leader of the Logistics and Execution team and also leader of Digital Tools developer team. | Arte y Cultura | 2017 - 2021 |\n",
    "| **MATH TEACHER** | I served as a high school math teacher of the assigments Mathematics I: Fundamentals and Mathematics II: Probability, Statistics and Finance at Colegio Altamira. | Colegio Altamira | 2017 - 2019 |\n",
    "| **BUILDING AND REPAIRING ELECTRICAL SYSTEMS FOR LP GAS** | I served in building and repairing electrical systems for gas LP serving stations. Second level troubleshooter. | Omar Rojo | Summer 2017 & 2018 |\n",
    "| **AUTOMOTIVE MECHANICAL ASSISTANT** | I perfomed as an assistant applying manual and technical knowledge. I served as first hand troubleshooter. | Juan Pablo Luera | Summer 2016 |\n",
    "| **WAREHOUSE ASSISTANT** | While working at manufacturing I got promoted as warehouse assistant. I perfomed stock management and national and international order delivery. | Protec | Summer 2014 & 2015 |\n",
    "---"
   ]
  }
 ],
 "metadata": {
  "kernelspec": {
   "display_name": "Python 3 (ipykernel)",
   "language": "python",
   "name": "python3"
  },
  "language_info": {
   "codemirror_mode": {
    "name": "ipython",
    "version": 3
   },
   "file_extension": ".py",
   "mimetype": "text/x-python",
   "name": "python",
   "nbconvert_exporter": "python",
   "pygments_lexer": "ipython3",
   "version": "3.8.5"
  }
 },
 "nbformat": 4,
 "nbformat_minor": 5
}
